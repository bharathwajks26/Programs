{
  "nbformat": 4,
  "nbformat_minor": 0,
  "metadata": {
    "colab": {
      "provenance": [],
      "authorship_tag": "ABX9TyN1WalPpi3JqmRq0WHYjyb2",
      "include_colab_link": true
    },
    "kernelspec": {
      "name": "python3",
      "display_name": "Python 3"
    },
    "language_info": {
      "name": "python"
    }
  },
  "cells": [
    {
      "cell_type": "markdown",
      "metadata": {
        "id": "view-in-github",
        "colab_type": "text"
      },
      "source": [
        "<a href=\"https://colab.research.google.com/github/bharathwajks26/Programs/blob/main/192124033%20QPDS.ipynb\" target=\"_parent\"><img src=\"https://colab.research.google.com/assets/colab-badge.svg\" alt=\"Open In Colab\"/></a>"
      ]
    },
    {
      "cell_type": "code",
      "execution_count": 1,
      "metadata": {
        "colab": {
          "base_uri": "https://localhost:8080/"
        },
        "id": "X6HnvoxXzoDp",
        "outputId": "faa73df1-55fd-4e02-b4ad-f32d782de664"
      },
      "outputs": [
        {
          "output_type": "stream",
          "name": "stdout",
          "text": [
            "    DEPARTMENT_ID\n",
            "0              10\n",
            "1              20\n",
            "2              30\n",
            "3              40\n",
            "4              50\n",
            "5              60\n",
            "6              70\n",
            "7              80\n",
            "8              90\n",
            "9             100\n",
            "10            110\n",
            "11            120\n",
            "12            130\n",
            "13            140\n",
            "14            150\n",
            "15            160\n",
            "16            170\n",
            "17            180\n",
            "18            190\n",
            "19            200\n",
            "20            210\n",
            "21            220\n",
            "22            230\n",
            "23            240\n",
            "24            250\n",
            "25            260\n",
            "26            270\n"
          ]
        }
      ],
      "source": [
        "import pandas as pd\n",
        "\n",
        "data = {\n",
        "    'DEPARTMENT_ID': [\n",
        "        10, 20, 30, 40, 50, 60, 70, 80, 90, 100, 110, 120, 130, 140, 150, 160, 170, 180, 190, 200, 210, 220, 230, 240, 250, 260, 270\n",
        "    ],\n",
        "    'DEPARTMENT_NAME': [\n",
        "        'Administration', 'Marketing', 'Purchasing', 'Human Resources', 'Shipping', 'IT', 'Public Relations',\n",
        "        'Sales', 'Executive', 'Finance', 'Accounting', 'Treasury', 'Corporate Tax', 'Control And Credit',\n",
        "        'Shareholder Services', 'Benefits', 'Manufacturing', 'Construction', 'Contracting', 'Operations',\n",
        "        'IT Support', 'NOC', 'IT Helpdesk', 'Government Sales', 'Retail Sales', 'Recruiting', 'Payroll'\n",
        "    ],\n",
        "    'MANAGER_ID': [\n",
        "        200, 201, 114, 203, 121, 103, 204, 145, 100, 108, 205, 0, 0, 0, 0, 0, 0, 0, 0, 0, 0, 0, 0, 0, 0, 0, 0\n",
        "    ],\n",
        "    'LOCATION_ID': [\n",
        "        1700, 1800, 1700, 2400, 1500, 1400, 2700, 2500, 1700, 1700, 1700, 1700, 1700, 1700, 1700, 1700, 1700, 1700, 1700, 1700, 1700, 1700, 1700, 1700, 1700, 1700, 1700\n",
        "    ]\n",
        "}\n",
        "\n",
        "employees = pd.DataFrame(data)\n",
        "\n",
        "\n",
        "dist_id = employees['DEPARTMENT_ID'].unique()\n",
        "\n",
        "# Create a new DataFrame with distinct department IDs\n",
        "dist_df = pd.DataFrame({'DEPARTMENT_ID': dist_id})\n",
        "\n",
        "# Display the result\n",
        "print(dist_df)\n"
      ]
    }
  ]
}