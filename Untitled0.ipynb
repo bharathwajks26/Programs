{
  "nbformat": 4,
  "nbformat_minor": 0,
  "metadata": {
    "colab": {
      "provenance": [],
      "authorship_tag": "ABX9TyMszJsD0WdG15l0kUYlaEFE",
      "include_colab_link": true
    },
    "kernelspec": {
      "name": "python3",
      "display_name": "Python 3"
    },
    "language_info": {
      "name": "python"
    }
  },
  "cells": [
    {
      "cell_type": "markdown",
      "metadata": {
        "id": "view-in-github",
        "colab_type": "text"
      },
      "source": [
        "<a href=\"https://colab.research.google.com/github/bharathwajks26/Programs/blob/main/Untitled0.ipynb\" target=\"_parent\"><img src=\"https://colab.research.google.com/assets/colab-badge.svg\" alt=\"Open In Colab\"/></a>"
      ]
    },
    {
      "cell_type": "code",
      "execution_count": 1,
      "metadata": {
        "colab": {
          "base_uri": "https://localhost:8080/"
        },
        "id": "X6HnvoxXzoDp",
        "outputId": "faa73df1-55fd-4e02-b4ad-f32d782de664"
      },
      "outputs": [
        {
          "output_type": "stream",
          "name": "stdout",
          "text": [
            "    DEPARTMENT_ID\n",
            "0              10\n",
            "1              20\n",
            "2              30\n",
            "3              40\n",
            "4              50\n",
            "5              60\n",
            "6              70\n",
            "7              80\n",
            "8              90\n",
            "9             100\n",
            "10            110\n",
            "11            120\n",
            "12            130\n",
            "13            140\n",
            "14            150\n",
            "15            160\n",
            "16            170\n",
            "17            180\n",
            "18            190\n",
            "19            200\n",
            "20            210\n",
            "21            220\n",
            "22            230\n",
            "23            240\n",
            "24            250\n",
            "25            260\n",
            "26            270\n"
          ]
        }
      ],
      "source": [
        "import pandas as pd\n",
        "\n",
        "data = {\n",
        "    'DEPARTMENT_ID': [\n",
        "        10, 20, 30, 40, 50, 60, 70, 80, 90, 100, 110, 120, 130, 140, 150, 160, 170, 180, 190, 200, 210, 220, 230, 240, 250, 260, 270\n",
        "    ],\n",
        "    'DEPARTMENT_NAME': [\n",
        "        'Administration', 'Marketing', 'Purchasing', 'Human Resources', 'Shipping', 'IT', 'Public Relations',\n",
        "        'Sales', 'Executive', 'Finance', 'Accounting', 'Treasury', 'Corporate Tax', 'Control And Credit',\n",
        "        'Shareholder Services', 'Benefits', 'Manufacturing', 'Construction', 'Contracting', 'Operations',\n",
        "        'IT Support', 'NOC', 'IT Helpdesk', 'Government Sales', 'Retail Sales', 'Recruiting', 'Payroll'\n",
        "    ],\n",
        "    'MANAGER_ID': [\n",
        "        200, 201, 114, 203, 121, 103, 204, 145, 100, 108, 205, 0, 0, 0, 0, 0, 0, 0, 0, 0, 0, 0, 0, 0, 0, 0, 0\n",
        "    ],\n",
        "    'LOCATION_ID': [\n",
        "        1700, 1800, 1700, 2400, 1500, 1400, 2700, 2500, 1700, 1700, 1700, 1700, 1700, 1700, 1700, 1700, 1700, 1700, 1700, 1700, 1700, 1700, 1700, 1700, 1700, 1700, 1700\n",
        "    ]\n",
        "}\n",
        "\n",
        "employees = pd.DataFrame(data)\n",
        "\n",
        "\n",
        "dist_id = employees['DEPARTMENT_ID'].unique()\n",
        "\n",
        "# Create a new DataFrame with distinct department IDs\n",
        "dist_df = pd.DataFrame({'DEPARTMENT_ID': dist_id})\n",
        "\n",
        "# Display the result\n",
        "print(dist_df)\n"
      ]
    },
    {
      "cell_type": "code",
      "source": [
        "import pandas as pd\n",
        "\n",
        "data = {\n",
        "    'EMPLOYEE_ID': [102, 101, 101, 201, 114, 122, 200, 176, 176, 200],\n",
        "    'START_DATE': ['2001-01-13', '1997-09-21', '2001-10-28', '2004-02-17', '2006-03-24', '2007-01-01', '1995-09-17', '2006-03-24', '2007-01-01', '2002-07-01'],\n",
        "    'END_DATE': ['2006-07-24', '2001-10-27', '2005-03-15', '2007-12-19', '2007-12-31', '2007-12-31', '2001-06-17', '2006-12-31', '2007-12-31', '2006-12-31'],\n",
        "    'JOB_ID': ['IT_PROG', 'AC_ACCOUNT', 'AC_MGR', 'MK_REP', 'ST_CLERK', 'ST_CLERK', 'AD_ASST', 'SA_REP', 'SA_MAN', 'AC_ACCOUNT'],\n",
        "    'DEPARTMENT_ID': [60, 110, 110, 20, 50, 50, 90, 80, 80, 90]\n",
        "}\n",
        "\n",
        "df = pd.DataFrame(data)\n",
        "\n",
        "# Count the number of jobs each employee has done\n",
        "job_counts = df.groupby('EMPLOYEE_ID')['JOB_ID'].count()\n",
        "\n",
        "# Select employees who did two or more jobs\n",
        "result = job_counts[job_counts >= 2]\n",
        "\n",
        "# Display the employee IDs\n",
        "print(result)\n"
      ],
      "metadata": {
        "colab": {
          "base_uri": "https://localhost:8080/"
        },
        "id": "zlnflwL60dR4",
        "outputId": "2b4c852f-4fdf-4539-93b7-86f6ee1de00d"
      },
      "execution_count": 3,
      "outputs": [
        {
          "output_type": "stream",
          "name": "stdout",
          "text": [
            "EMPLOYEE_ID\n",
            "101    2\n",
            "176    2\n",
            "200    2\n",
            "Name: JOB_ID, dtype: int64\n"
          ]
        }
      ]
    }
  ]
}